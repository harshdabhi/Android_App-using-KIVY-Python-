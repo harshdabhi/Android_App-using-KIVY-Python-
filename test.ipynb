{
 "cells": [
  {
   "cell_type": "code",
   "execution_count": 3,
   "metadata": {},
   "outputs": [],
   "source": []
  },
  {
   "cell_type": "code",
   "execution_count": 8,
   "metadata": {},
   "outputs": [
    {
     "name": "stdout",
     "output_type": "stream",
     "text": [
      "hello world0\n",
      "\n",
      "hello world1\n",
      "\n",
      "2hello world\n",
      "\n",
      "hello world3\n",
      "\n",
      "4hello world\n",
      "\n",
      "hello world5\n",
      "stop it\n",
      "\n"
     ]
    },
    {
     "ename": "TypeError",
     "evalue": "Event.set() takes 1 positional argument but 2 were given",
     "output_type": "error",
     "traceback": [
      "\u001b[0;31m---------------------------------------------------------------------------\u001b[0m",
      "\u001b[0;31mTypeError\u001b[0m                                 Traceback (most recent call last)",
      "\u001b[1;32m/Users/phoenixonwork/Documents/coding/projects/Andriod_app/test.ipynb Cell 2\u001b[0m line \u001b[0;36m1\n\u001b[1;32m     <a href='vscode-notebook-cell:/Users/phoenixonwork/Documents/coding/projects/Andriod_app/test.ipynb#W1sZmlsZQ%3D%3D?line=11'>12</a>\u001b[0m \u001b[39mif\u001b[39;00m i\u001b[39m==\u001b[39m\u001b[39m5\u001b[39m:\n\u001b[1;32m     <a href='vscode-notebook-cell:/Users/phoenixonwork/Documents/coding/projects/Andriod_app/test.ipynb#W1sZmlsZQ%3D%3D?line=12'>13</a>\u001b[0m     \u001b[39mprint\u001b[39m(\u001b[39m\"\u001b[39m\u001b[39mstop it\u001b[39m\u001b[39m\"\u001b[39m)\n\u001b[0;32m---> <a href='vscode-notebook-cell:/Users/phoenixonwork/Documents/coding/projects/Andriod_app/test.ipynb#W1sZmlsZQ%3D%3D?line=13'>14</a>\u001b[0m     f\u001b[39m.\u001b[39;49mset(\u001b[39m'\u001b[39;49m\u001b[39mtrue\u001b[39;49m\u001b[39m'\u001b[39;49m)\n\u001b[1;32m     <a href='vscode-notebook-cell:/Users/phoenixonwork/Documents/coding/projects/Andriod_app/test.ipynb#W1sZmlsZQ%3D%3D?line=15'>16</a>\u001b[0m time\u001b[39m.\u001b[39msleep(\u001b[39m2\u001b[39m)\n",
      "\u001b[0;31mTypeError\u001b[0m: Event.set() takes 1 positional argument but 2 were given"
     ]
    },
    {
     "name": "stdout",
     "output_type": "stream",
     "text": [
      "hello world\n",
      "hello world\n",
      "hello world\n",
      "hello world\n"
     ]
    }
   ],
   "source": [
    "import threading\n",
    "import time\n",
    "\n",
    "\n",
    "def testit():\n",
    "    for i in range(10):\n",
    "        print(\"hello world\")\n",
    "        time.sleep(2)\n",
    "f=threading.Event()\n",
    "f.clear()\n",
    "\n",
    "thread=threading.Thread(target=testit)\n",
    "thread.start()\n",
    "\n",
    "for i in range(10):\n",
    "    print(i)\n",
    "    if i==5:\n",
    "        print(\"stop it\")\n",
    "        f.set()\n",
    "        \n",
    "    time.sleep(2)"
   ]
  },
  {
   "cell_type": "code",
   "execution_count": 9,
   "metadata": {},
   "outputs": [
    {
     "name": "stdout",
     "output_type": "stream",
     "text": [
      "hello world0\n",
      "\n",
      "1\n",
      "hello world\n",
      "2hello world\n",
      "\n",
      "3\n",
      "hello world\n",
      "4hello world\n",
      "\n",
      "5\n",
      "Setting the event to stop the thread.\n",
      "Stopping the thread.\n",
      "6\n",
      "7\n",
      "8\n",
      "9\n",
      "Main thread has finished.\n"
     ]
    }
   ],
   "source": [
    "import threading\n",
    "import time\n",
    "\n",
    "def testit():\n",
    "    for i in range(10):\n",
    "        print(\"hello world\")\n",
    "        time.sleep(2)\n",
    "        if f.is_set():\n",
    "            print(\"Stopping the thread.\")\n",
    "            break\n",
    "\n",
    "# Create an event to signal the thread to stop\n",
    "f = threading.Event()\n",
    "\n",
    "# Create and start the thread\n",
    "thread = threading.Thread(target=testit)\n",
    "thread.start()\n",
    "\n",
    "for i in range(10):\n",
    "    print(i)\n",
    "    if i == 5:\n",
    "        print(\"Setting the event to stop the thread.\")\n",
    "        f.set()\n",
    "        \n",
    "    time.sleep(2)\n",
    "\n",
    "# Wait for the thread to finish\n",
    "thread.join()\n",
    "\n",
    "print(\"Main thread has finished.\")\n"
   ]
  },
  {
   "cell_type": "code",
   "execution_count": null,
   "metadata": {},
   "outputs": [],
   "source": []
  }
 ],
 "metadata": {
  "kernelspec": {
   "display_name": "base",
   "language": "python",
   "name": "python3"
  },
  "language_info": {
   "codemirror_mode": {
    "name": "ipython",
    "version": 3
   },
   "file_extension": ".py",
   "mimetype": "text/x-python",
   "name": "python",
   "nbconvert_exporter": "python",
   "pygments_lexer": "ipython3",
   "version": "3.10.9"
  }
 },
 "nbformat": 4,
 "nbformat_minor": 2
}
